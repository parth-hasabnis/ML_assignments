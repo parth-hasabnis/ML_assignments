{
 "cells": [
  {
   "cell_type": "code",
   "execution_count": null,
   "metadata": {},
   "outputs": [],
   "source": [
    "N    = 11\n",
    "X    = np.linspace(-1, 1, N)\n",
    "Y    = np.linspace(-1, 1, N)\n",
    "X, Y = np.meshgrid(X, Y)\n",
    "pos  = np.dstack((X, Y))\n",
    "mean = np.array([0, 0])\n",
    "cov = np.array([[1, 0],[0, 1]])\n",
    "rv   = multivariate_normal(mean, cov)\n",
    "Z    = rv.pdf(pos)\n",
    "\n",
    "plt.contour(X, Y, Z)\n",
    "plt.show()"
   ]
  },
  {
   "cell_type": "code",
   "execution_count": null,
   "metadata": {},
   "outputs": [],
   "source": [
    "'''\n",
    "b_hat = np.matmul(X.T, X)\n",
    "b_hat = np.matmul(np.linalg.inv(b_hat), X.T)\n",
    "b_hat = np.matmul(b_hat, y)\n",
    "'''"
   ]
  }
 ],
 "metadata": {
  "kernelspec": {
   "display_name": "base",
   "language": "python",
   "name": "python3"
  },
  "language_info": {
   "name": "python",
   "version": "3.9.13 | packaged by conda-forge | (main, May 27 2022, 16:51:29) [MSC v.1929 64 bit (AMD64)]"
  },
  "orig_nbformat": 4,
  "vscode": {
   "interpreter": {
    "hash": "cf8534e9de0cd6d412d9915b4a252668187cf74d06ab6062ad6b9b57c0435667"
   }
  }
 },
 "nbformat": 4,
 "nbformat_minor": 2
}
